{
 "cells": [
  {
   "cell_type": "markdown",
   "metadata": {},
   "source": [
    "# Agent Signatures\n",
    "Kappa agents are the main entities that will interact in your simulation. You declare an agent signature using the kappa statement **%agent:** followed by its name and interface. The interface is declared between *()* signs, and contain the sites of the agent.  \n",
    "Sites are like the attributes of the agent, and they can store a value and a connection (with another agent's site). Values can be labels (you have to declare a list of labels in the signature) or numeric (*min, max* and *default* can be provided).\n",
    "\n",
    "Lets see some examples:"
   ]
  },
  {
   "cell_type": "raw",
   "metadata": {},
   "source": [
    "#agent signatures\n",
    "\n",
    "%agent: Protein(i,s1~u~p)           #a protein with a site that can be phosphorized\n",
    "%agent: Predator(feed~[0,10])       #a predator with a counter of preys hunted\n",
    "\n",
    "\n",
    "'phosphorilation' Protein(i!_,s1~u) -> Protein(i!_,s1~p) @ 1.0        #A protein bind to something is phosphorized \n",
    "'feed' Predator(feed~{x}!1),Prey(i!1) -> Predator(feed~{x+1}) @ 1.0   #A Predator feeds from hunted Prey"
   ]
  },
  {
   "cell_type": "markdown",
   "metadata": {},
   "source": [
    "An agent's site can be used as a value and a connection at the same time. More about agent signature syntax *here*.\n",
    "# Agent Patterns\n",
    "When rules are applied, an agent instance (from the *StateGraph*) is selected for each agent in the **LHS** of the rule. Therefore, the **LHS** agents are patterns that *match* with agent instances. This matching step is one of the KaXim's main process, and also the *Kappa* syntax of *agent patterns* is very complex.\n",
    "\n",
    "#### Don't care, don't write\n",
    "When writting patterns, the general rule is if you don't care about the state of a site, you don't write it. There are some special syntax for *agent-patterns*, like the **i!\\_** used in the previous example to match an annonymous bind. \n"
   ]
  },
  {
   "cell_type": "raw",
   "metadata": {},
   "source": [
    "#A predator replicates after feed with more than five preys\n",
    "'Pred replicate' Predator(feed~{x > 5}) -> Predator(feed~{x/2}),Predator(feed~{x/2}) @ 1.0\n",
    "\n",
    "#prey"
   ]
  },
  {
   "cell_type": "markdown",
   "metadata": {},
   "source": [
    "Lets write a model where an agent can bind itself to make closed chains, and then check the sizes of these chains."
   ]
  },
  {
   "cell_type": "code",
   "execution_count": 1,
   "metadata": {},
   "outputs": [
    {
     "name": "stdout",
     "output_type": "stream",
     "text": [
      "KaXim-Debug models/chains.xka -e 10 -p 10 -d runs -o chains \n",
      "Seed was randomized to value 3213569716.\n",
      "terminate called after throwing an instance of 'std::out_of_range'\n",
      "  what():  map::at\n",
      "Aborted (core dumped)\n"
     ]
    }
   ],
   "source": [
    "kappa_chains = \"\"\"\n",
    "%agent: A(i,j)\n",
    "\n",
    "'bind' A(j),A(i) -> A(j!1),A(i!1) @ 1.0\n",
    "\n",
    "%init: 20 A()\n",
    "\n",
    "%obs: '2A' A(i!2,j!1),A(i!1,j!2) \n",
    "%obs: '3A' A(i!3,j!1),A(i!1,j!2),A(i!2,j!3) \n",
    "%obs: '4A' A(i!4,j!1),A(i!1,j!2),A(i!2,j!3),A(i!3,j!4)\n",
    "%obs: '5A' A(i!5,j!1),A(i!1,j!2),A(i!2,j!3),A(i!3,j!4),A(i!4,j!5)\n",
    "#etc...\n",
    "\"\"\"\n",
    "\n",
    "f = open(\"models/chains.xka\",\"w\")\n",
    "f.write(kappa_chains)\n",
    "f.close()\n",
    "\n",
    "!KaXim-Debug models/chains.xka -e 10 -p 10 -d runs -o chains\n"
   ]
  },
  {
   "cell_type": "code",
   "execution_count": null,
   "metadata": {},
   "outputs": [],
   "source": []
  }
 ],
 "metadata": {
  "kernelspec": {
   "display_name": "Python 3",
   "language": "python",
   "name": "python3"
  },
  "language_info": {
   "codemirror_mode": {
    "name": "ipython",
    "version": 3
   },
   "file_extension": ".py",
   "mimetype": "text/x-python",
   "name": "python",
   "nbconvert_exporter": "python",
   "pygments_lexer": "ipython3",
   "version": "3.8.5"
  }
 },
 "nbformat": 4,
 "nbformat_minor": 4
}
