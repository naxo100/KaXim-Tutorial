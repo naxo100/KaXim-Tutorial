{
 "cells": [
  {
   "cell_type": "markdown",
   "metadata": {},
   "source": [
    "# KaXim tutorial"
   ]
  },
  {
   "cell_type": "markdown",
   "metadata": {},
   "source": [
    "## Introduction\n",
    "**KaXim** is a simulation tool for Expanded Kappa models (based on **Kappa Language** and KaSim).\n",
    "This language allows the definition of **Agents** (the entities that compound and interact in the system) and **Rules** (the *events* that may happen with known probabilities in the system). These are the main elements of a Kappa model that allow to simulate its behaviour in time."
   ]
  },
  {
   "cell_type": "markdown",
   "metadata": {},
   "source": [
    "#### Basic Example\n",
    "Lets take a look to the following example of a kappa simulation."
   ]
  },
  {
   "cell_type": "code",
   "execution_count": null,
   "metadata": {
    "scrolled": true
   },
   "outputs": [],
   "source": [
    "#the kappa model text of an exponential decay\n",
    "kappa_decay = \"\"\"\n",
    "%params: 'N','decay-rate'\n",
    "\n",
    "%agent: X()\n",
    "\n",
    "'decay' X() ->   @ 'decay-rate'    #delete agent X\n",
    "\n",
    "%init: 'N' X()\n",
    "\n",
    "%obs: 'Agent X' X()\n",
    "\"\"\"\n",
    "\n",
    "#Create the kappa file and write the model in it\n",
    "model = open(\"decay.xka\",\"w\")\n",
    "model.write(kappa_decay)\n",
    "model.close()\n",
    "\n",
    "#run the simulation using KaXim \n",
    "X_0 = 20      #param for Kappa model\n",
    "l = 1\n",
    "!KaXim decay.xka -e {X_0} -p {min(X_0,200)} -d runs -o decay --params {X_0} {l}\n",
    "\n",
    "#print output file\n",
    "out = open(\"runs/decay.tsv\")\n",
    "print(out,out.read(),sep=\"\\n\")\n",
    "out.close()"
   ]
  },
  {
   "cell_type": "markdown",
   "metadata": {},
   "source": [
    "The model is a simple exponential decay of the agent *X*, commonly expressed with the diferential equation\n",
    "$$ \\frac{dX}{dt} = -\\lambda X$$\n",
    "which solution is\n",
    "$$ X(t) = X_0 e^{-\\lambda t}$$\n",
    "\n",
    "The simulation creates the output file \"*runs/decay.tsv*\" that contains its *time-trajectory*. We can use the KaXim's python plotting scripts to plot this file easily."
   ]
  },
  {
   "cell_type": "code",
   "execution_count": null,
   "metadata": {},
   "outputs": [],
   "source": [
    "#plot the output file\n",
    "import matplotlib.pyplot as plt\n",
    "import numpy as np\n",
    "import pandas as pd\n",
    "\n",
    "import sys \n",
    "import os\n",
    "sys.path.append(os.path.relpath(\"../Py-scripts-kappa\"))\n",
    "import plotting_kappa as kappa\n",
    "\n",
    "decay_plt = kappa.plot_file(\"runs/decay.tsv\")\n",
    "\n",
    "#plot the diferential eq. solution\n",
    "time = decay_plt.lines[0].get_xdata()\n",
    "plt.plot(time,X_0*np.exp(-time),'k-',label=\"X(t)\")\n",
    "plt.legend();"
   ]
  },
  {
   "cell_type": "markdown",
   "metadata": {},
   "source": [
    "The **blue line** is the *time-trajectory* obtained using KaXim simulation.   \n",
    "The **black line** is the solution to the differential equation in *exponential decay*.\n",
    "##### Excercise:\n",
    "Try increasing the value of $X_0$ to see how the plot looks.\n",
    "### KaXim parameters\n",
    "To see what are the **parameters** for KaXim, just run:"
   ]
  },
  {
   "cell_type": "code",
   "execution_count": null,
   "metadata": {},
   "outputs": [],
   "source": [
    "!KaXim --help"
   ]
  },
  {
   "cell_type": "markdown",
   "metadata": {},
   "source": [
    "We can see here the options we used to run the **exponential-decay** model.\n",
    "- **input-file**: the address to the kappa-model file (decay.xka). Several kappa files can be given. The flag **-i** is optional.\n",
    "- **events**: the max number of rule applications before stop running the simulation. This or **time** parameters must be given to KaXim to explicitly stop simulation. As the rule *'decay'* deletes agents, we use the same number of agents and events.\n",
    "- **points**: The number of points (rows) to print to the output files. We plot a point to the output for each event in decay simulation.\n",
    "- **directory**: the folder (*runs/*) to put all the output files.\n",
    "- **out**: the (*prefix-*) name for the output file.\n",
    "- **params**: Used to set values to the *%params* declared in the kappa-model. $init = 20$ is given from python to KaXim command line, and the model sets the *%param* **N** with this value.\n",
    "\n",
    "To introduce later the parameter **--verbose**, lets make a new simple model where 2 agents connect and disconnect."
   ]
  },
  {
   "cell_type": "code",
   "execution_count": null,
   "metadata": {
    "scrolled": true
   },
   "outputs": [],
   "source": [
    "A_B_model = \"\"\"\n",
    "#Agent definition\n",
    "%agent: A(i)\n",
    "%agent: B(i)\n",
    "\n",
    "#Rules\n",
    "'A+B -> AB'  A(i),B(i) -> A(i!1),B(i!1) @ 1.0\n",
    "'AB -> A+B'  A(i!1),B(i!1) -> A(i),B(i) @ 2.0\n",
    "\n",
    "#Initialization\n",
    "%init: 3 A()\n",
    "%init: 3 B()\n",
    "%init: 2 A(i!1),B(i!1)\n",
    "\n",
    "#Vars\n",
    "%var: 'A' A(i)\n",
    "%var: 'B' B(i)\n",
    "\n",
    "%obs: 'Free A & B' 'A'+'B'\n",
    "%obs: 'Complex AB' A(i!1),B(i!1)\n",
    "\"\"\""
   ]
  },
  {
   "cell_type": "markdown",
   "metadata": {},
   "source": [
    "There are 4 **main sections** in a kappa-model, here announced using '#' (a *commentary*):\n",
    "1. **Agent Definition**: Every agent in the system has to be declared with a *name* (in this tutorial all agents are capitalized to avoid confusion with other entities) and an **interface** inside the parenthesis. *A* and *B* have simple *interfaces* containing only one **site**. See **-LINK-** for a detailed description about interfaces.\n",
    "2. **Rules**: the model describes a system where two **species** (lets say *particles*) may interact to form a *connected-component* (first rule), and *disjoin* in a reverse process (second rule). Both rules include a name label, a *Left Hand Side* of reaction (**LHS**, the reactants), a *Right Hand Side* (**RHS**, the products) and a **rate**.\n",
    "3. **Initialization**: Here the *initial quantities* of each *species* are specified. If the *agent's interface* is not fully specified, default values are used.\n",
    "4. **Variables**: Associate a name with a quantity in the simulation. *Species concentrations* and *functions* can be defined as *Variables*. **Observables** (*%obs:*) allow to declare a *variable* that will be printed to the output-file.\n",
    "\n",
    "These *sections* do not need to be written in any specific order, and they can even be mixed. Variables that depend on other variables values need to be written later.\n",
    "\n",
    "Now we can introduce the **--verbose** level. This option will allow to understand what is KaXim doing during the simulation, and it will be very useful to understand why your models do not behave as you expected.  \n",
    "As KaXim has very optimized functions, they lack of debugging and logging. The best way to test if a model works as it should is using **KaXim-Debug**. This version of KaXim is compiled with logging for most of its functions.\n",
    "\n",
    "Just need to create a *kappa-file* with *AB* model and run it using **KaXim-Debug**:"
   ]
  },
  {
   "cell_type": "code",
   "execution_count": null,
   "metadata": {},
   "outputs": [],
   "source": [
    "model = open(\"A-B.xka\",\"w\")\n",
    "model.write(A_B_model)\n",
    "model.close()\n",
    "!KaXim-Debug A-B.xka -p 10 -e 10 -d runs -o AB-output --verbose 3 --show-nodes -1"
   ]
  },
  {
   "cell_type": "markdown",
   "metadata": {},
   "source": [
    "As the **--verbose** level increase, you will see more logging (max is 3). **--show-nodes** is used to limit the amount of *agent-nodes* when the simulation state is printed.\n",
    "The first output you will see is the **seed value**. Every time you run a simulation, the seed will be *randomized* and the results will be different. To avoid this, choose a seed value using the parameter **--seed**.  \n",
    "The **Environment** will be printed if *--verbose value > 0*.\n",
    "- **Connected-Components** (**CC**) are the **species** of the model: sets of 1 or more connected *agent-patterns* that can be *matched* with *agent-nodes* in the *state-graph* of the simulation. These *matches* are called **Injections**, and are stored during simulation. Keep calm, this will be explained in more detail later.\n",
    "- **Rules** are decomposed to the **actions** that they *apply*. Later we will see how these actions are extracted from solving the *differences* between **LHS** and **RHS**. Rule applicactions also have consequences: they produce *injections* which are listed after actions.\n",
    "\n",
    "The warnings of the same kind will be printed up to 2 times.  \n",
    "Later we have the simulation initial state printed:\n",
    "- **StateGraph[nodes]**: the *agent-nodes* in the simulation. Binds have the id of the target agent.\n",
    "- **Active Injections**: the matches [*CC -> agent-node*] found in StateGraph.\n",
    "- **Active Rules**: The *non-zero reactivity* rules and their *reactivites* (binary and unary).\n",
    "- **Counter**: All the quantities that will be incresing during the simulation.\n",
    "\n",
    "Then KaXim starts running the simulation and get the events logging. Every event log include: event number, event *timing*, *total reactivity* before event application, rule to apply, id of (*root-nodes* of) CCs that will be modified and the list of actions applied.  \n",
    "Finally it prints the final simulation state and the seconds it takes to produce the simulation.\n"
   ]
  },
  {
   "cell_type": "code",
   "execution_count": null,
   "metadata": {},
   "outputs": [],
   "source": [
    "kappa.plot_file(\"runs/AB-output.tsv\");"
   ]
  },
  {
   "cell_type": "markdown",
   "metadata": {},
   "source": [
    "##### Excercise: \n",
    "Run the decay model using KaXim-Debug and --verbose 3.\n",
    "\n",
    "#### Statistics\n",
    "KaXim is based in the *Stochastic Simulation Algorithm* (**SSA**), a method that generates a *feasible* solution of a stochastic equation system. This solution is a statistically correct *time-trajectory* of the system, obtained by applying every event explicitly. Therefore, most of the systems will need several simulations and some statistical analysis. The KaXim parameter **--runs N** allows to produce **N** *time-trajectories* at once, using **OpenMP** libraries to take advantage from parallel architecture. The Kappa variable [ID] can be used in Kappa models to obtain the simulation *Id*, from 0 to **N**. \n",
    "\n",
    "A typical system where stochasticity plays an important role is the **Predator-Prey** interaction. These models are commonly studied using the *Lotka-Volterra* equations, a deterministic method useful to determine periods and size of oscilations, but incapable to show extintions.\n",
    "\n",
    "Look at the following example of a *predator-prey* model:"
   ]
  },
  {
   "cell_type": "code",
   "execution_count": null,
   "metadata": {},
   "outputs": [],
   "source": [
    "pred_prey_model = \"\"\"\n",
    "%agent: Pred()\n",
    "%agent: Prey()\n",
    "\n",
    "%params: 'Pred-feed rate','Prey-replicate rate','Pred-die rate'\n",
    "\n",
    "%var: 'Pred-init' 10*(1+2*[ID])\n",
    "%const: 'Prey-init' 80\n",
    "\n",
    "'Pred-feed' Pred(),Prey() -> Pred(),Pred() @ 'Pred-feed rate'\n",
    "'Prey-replicate' Prey() -> Prey(),Prey() @ 'Prey-replicate rate'\n",
    "'Pred-die' Pred() ->  @ 'Pred-die rate'\n",
    "\n",
    "%init: 'Pred-init' Pred()\n",
    "%init: 'Prey-init' Prey()\n",
    "\n",
    "%obs: 'Predator' Pred()\n",
    "%obs: 'Prey' Prey()\n",
    "\"\"\"\n",
    "\n",
    "model = open(\"Pred-Prey.xka\",\"w\")\n",
    "model.write(pred_prey_model)\n",
    "model.close()\n",
    "\n",
    "pred_feed = 0.01\n",
    "prey_rep = 1.0\n",
    "pred_die = 1.0\n",
    "\n",
    "!KaXim Pred-Prey.xka -t 30 -e 10000 -p 100 -d runs -o pp --params {pred_feed} {prey_rep} {pred_die}\n",
    "kappa.plot_file(\"runs/pp.tsv\");\n",
    "\n",
    "### Plotting Lotka-Volterra solution\n",
    "from scipy.integrate import odeint\n",
    "def df_dt(x, t, a, b, c, d):\n",
    "    \"\"\"Función del sistema en forma canónica\"\"\"\n",
    "    dx = a * x[0] - b * x[0] * x[1]\n",
    "    dy = - c * x[1] + d * x[0] * x[1]\n",
    "    return np.array([dx, dy])\n",
    "# Params\n",
    "a = prey_rep\n",
    "b = pred_feed\n",
    "c = pred_die\n",
    "d = pred_feed\n",
    "# Init\n",
    "init = np.array([80, 10])\n",
    "t = np.linspace(0, 30, 200)\n",
    "sol = odeint(df_dt, init, t, args=(a, b, c, d))\n",
    "plt.plot(t, sol[:, 1], label='LV predator')\n",
    "plt.plot(t, sol[:, 0], label='LV prey')\n",
    "plt.legend();"
   ]
  },
  {
   "cell_type": "markdown",
   "metadata": {},
   "source": [
    "The plot shows the curves for Predator and Prey populations obtained from *stochastic simulation* and *Lotka-Volterra equations*. If you run the simulation several times you will see *extintions* of both species (preys die first, then predators have no food) or only the predator (and preys growing exponentially).\n",
    "\n",
    "Lets see how KaXim runs several simulation at once!"
   ]
  },
  {
   "cell_type": "code",
   "execution_count": null,
   "metadata": {
    "scrolled": false
   },
   "outputs": [],
   "source": [
    "!rm -rf runs/pp*\n",
    "!KaXim Pred-Prey.xka -t 30 -e 10000 -p 100 -d runs -o pp -r 9 --params {pred_feed} {prey_rep} {pred_die}\n",
    "%matplotlib notebook\n",
    "kappa.plot_files(filter = \"runs/pp*\",share_xy = [\"col\",False],subplot_name = \"\");"
   ]
  },
  {
   "cell_type": "markdown",
   "metadata": {},
   "source": []
  },
  {
   "cell_type": "code",
   "execution_count": null,
   "metadata": {},
   "outputs": [],
   "source": []
  }
 ],
 "metadata": {
  "kernelspec": {
   "display_name": "Python 3",
   "language": "python",
   "name": "python3"
  },
  "language_info": {
   "codemirror_mode": {
    "name": "ipython",
    "version": 3
   },
   "file_extension": ".py",
   "mimetype": "text/x-python",
   "name": "python",
   "nbconvert_exporter": "python",
   "pygments_lexer": "ipython3",
   "version": "3.8.5"
  }
 },
 "nbformat": 4,
 "nbformat_minor": 4
}
